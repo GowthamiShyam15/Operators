{
 "cells": [
  {
   "cell_type": "markdown",
   "id": "36651d25",
   "metadata": {},
   "source": [
    "# Operators"
   ]
  },
  {
   "cell_type": "markdown",
   "id": "d2315fa0",
   "metadata": {},
   "source": [
    "1. Arithmetic Operators\n",
    "2. Assignment Operators\n",
    "3. Relational/Conditional/Comparison Operators\n",
    "4. Logical Operators\n",
    "5. Membership Operators\n",
    "6. Identity Operators"
   ]
  },
  {
   "cell_type": "markdown",
   "id": "0f72cb91",
   "metadata": {},
   "source": [
    "<h3>1. Arithmetic Operators</h3>"
   ]
  },
  {
   "cell_type": "code",
   "execution_count": 7,
   "id": "c5f9bfe2",
   "metadata": {},
   "outputs": [
    {
     "name": "stdout",
     "output_type": "stream",
     "text": [
      "Enter a value: 14\n",
      "Enter b value: 7\n",
      "a+b= 21\n",
      "a-b= 7\n",
      "a*b= 98\n",
      "a/b= 2.0\n",
      "a//b= 2\n",
      "a%b= 0\n",
      "5**2= 25\n"
     ]
    }
   ],
   "source": [
    "#+,-,*,Division(/->float, //->integer, %->modulous),**\n",
    "\n",
    "a = int(input(\"Enter a value: \"))\n",
    "b = int(input(\"Enter b value: \"))\n",
    "add = a+b  #10+4=14\n",
    "sub = a-b  #10-4=6\n",
    "mult = a*b #10*4=40\n",
    "FD = a/b   #10/4=2.5\n",
    "ID = a//b  #10//4=2\n",
    "mod = a%b  #10%4=2\n",
    "power = 5**2 #5**2=25\n",
    "\n",
    "\n",
    "#print(f\"a+b={add}\\na-b={sub}\")\n",
    "\n",
    "print(\"a+b=\",add)\n",
    "print(\"a-b=\",sub)\n",
    "print(\"a*b=\",mult)\n",
    "print(\"a/b=\",FD)\n",
    "print(\"a//b=\",ID)\n",
    "print(\"a%b=\",mod)\n",
    "print(\"5**2=\",power)"
   ]
  },
  {
   "cell_type": "markdown",
   "id": "cff3464d",
   "metadata": {},
   "source": [
    "# input()"
   ]
  },
  {
   "cell_type": "markdown",
   "id": "0f6d93c7",
   "metadata": {},
   "source": [
    "- we can give different values ar run time.\n",
    "- By default, it will treat all values as string.\n"
   ]
  },
  {
   "cell_type": "code",
   "execution_count": null,
   "id": "69bcabe4",
   "metadata": {},
   "outputs": [],
   "source": [
    "a = int(input(\"Enter a value: \"))\n",
    "b = int(input(\"Enter b value: \"))\n",
    "print(a)\n",
    "print(b)\n",
    "print(type(a))\n",
    "print(type(b))\n",
    "print(a+b)"
   ]
  },
  {
   "cell_type": "markdown",
   "id": "2b933ed0",
   "metadata": {},
   "source": [
    "<h3>2. Assignment Operators</h3>"
   ]
  },
  {
   "cell_type": "code",
   "execution_count": 8,
   "id": "debfc5f1",
   "metadata": {},
   "outputs": [
    {
     "name": "stdout",
     "output_type": "stream",
     "text": [
      "90\n"
     ]
    }
   ],
   "source": [
    "x = 90\n",
    "print(x)"
   ]
  },
  {
   "cell_type": "code",
   "execution_count": 28,
   "id": "a06e5a59",
   "metadata": {},
   "outputs": [
    {
     "name": "stdout",
     "output_type": "stream",
     "text": [
      "original value of 10: 10\n",
      "after adding 4 to 10->The x value is 14\n",
      "after subtracting 2 from 14->The x value is 12\n",
      "after multiplying 6 with 12->The x value is 72\n"
     ]
    }
   ],
   "source": [
    "#=,+=,-=,*=,/=,//=,%=,**=\n",
    "\n",
    "x = 10\n",
    "print(f\"original value of {x}:\",x)\n",
    "\n",
    "#add 4 to x and assign it to x -> add and assign\n",
    "print(f\"after adding 4 to {x}\",end=\"->\")\n",
    "x += 4        #x = x+4\n",
    "print(\"The x value is\",x) #14\n",
    "\n",
    "#subtract 2 from x and assign it to x -> subtract and assign\n",
    "print(f\"after subtracting 2 from {x}\",end=\"->\")\n",
    "x -= 2        #x = x-2\n",
    "print(\"The x value is\",x) #12\n",
    "\n",
    "#multiply 6 with x and assign it to x -> multiply and assign\n",
    "print(f\"after multiplying 6 with {x}\",end=\"->\")\n",
    "x *= 6        #x = x*6\n",
    "print(\"The x value is\",x) #72"
   ]
  },
  {
   "cell_type": "markdown",
   "id": "3aad1053",
   "metadata": {},
   "source": [
    "<h3>3.Relational Operators</h3>"
   ]
  },
  {
   "cell_type": "code",
   "execution_count": 3,
   "id": "f01068e5",
   "metadata": {},
   "outputs": [
    {
     "name": "stdout",
     "output_type": "stream",
     "text": [
      "True\n",
      "False\n",
      "False\n"
     ]
    }
   ],
   "source": [
    "# ==, !=, < , <= ,> , >=\n",
    "\n",
    "a = 9\n",
    "b = 89\n",
    "print(23<90)\n",
    "print(a>b) #9>89\n",
    "print(a==b) #9==89"
   ]
  },
  {
   "cell_type": "markdown",
   "id": "4428f5a2",
   "metadata": {},
   "source": [
    "<h3>4. Logical Operators</h3>"
   ]
  },
  {
   "cell_type": "markdown",
   "id": "0564aa9c",
   "metadata": {},
   "source": [
    "- comparing more than 1 condition.\n",
    "- 3 types:\n",
    "        and \n",
    "        or\n",
    "        not (unary operator)"
   ]
  },
  {
   "cell_type": "code",
   "execution_count": 22,
   "id": "6e7b39b7",
   "metadata": {},
   "outputs": [
    {
     "name": "stdout",
     "output_type": "stream",
     "text": [
      "False\n"
     ]
    }
   ],
   "source": [
    "#or\n",
    "\n",
    "print(3>8 or 4>12)"
   ]
  },
  {
   "cell_type": "code",
   "execution_count": 25,
   "id": "1f02eb05",
   "metadata": {},
   "outputs": [
    {
     "name": "stdout",
     "output_type": "stream",
     "text": [
      "True\n"
     ]
    }
   ],
   "source": [
    "#not \n",
    "\n",
    "print(not(3>8 or 4>12))  #not(False)->True"
   ]
  },
  {
   "cell_type": "code",
   "execution_count": 26,
   "id": "92c8c265",
   "metadata": {},
   "outputs": [
    {
     "name": "stdout",
     "output_type": "stream",
     "text": [
      "True\n"
     ]
    }
   ],
   "source": [
    "print(not(3>8))   #False-> True"
   ]
  },
  {
   "cell_type": "code",
   "execution_count": 27,
   "id": "cb27ec4d",
   "metadata": {},
   "outputs": [
    {
     "name": "stdout",
     "output_type": "stream",
     "text": [
      "False\n"
     ]
    }
   ],
   "source": [
    "print(not(13>8)) #True->False"
   ]
  },
  {
   "cell_type": "markdown",
   "id": "6da04c6a",
   "metadata": {},
   "source": [
    "<h3>5. Membership Operators</h3>"
   ]
  },
  {
   "cell_type": "markdown",
   "id": "e2a04e60",
   "metadata": {},
   "source": [
    "- 2 types:\n",
    "\n",
    "        1. in\n",
    "        2. not in"
   ]
  },
  {
   "cell_type": "code",
   "execution_count": 30,
   "id": "b1635879",
   "metadata": {},
   "outputs": [
    {
     "name": "stdout",
     "output_type": "stream",
     "text": [
      "True\n",
      "False\n"
     ]
    }
   ],
   "source": [
    "l = [\"laxmi\",67.89,45,True,\"sai\"]\n",
    "\n",
    "print(\"sai\" in l)\n",
    "print(\"Sai\" in l)"
   ]
  },
  {
   "cell_type": "code",
   "execution_count": 33,
   "id": "0b82a9e1",
   "metadata": {},
   "outputs": [
    {
     "name": "stdout",
     "output_type": "stream",
     "text": [
      "False\n",
      "True\n"
     ]
    }
   ],
   "source": [
    "#not in\n",
    "\n",
    "print(\"sai\" not in l) #False\n",
    "print(\"Sai\" not in l) #True"
   ]
  },
  {
   "cell_type": "markdown",
   "id": "f8edc0b8",
   "metadata": {},
   "source": [
    "<h3>6. Identity Operators </h3>"
   ]
  },
  {
   "cell_type": "markdown",
   "id": "b4e042b5",
   "metadata": {},
   "source": [
    "- 2 types:\n",
    "        \n",
    "        1. is (==)\n",
    "        2. is not (!=)"
   ]
  },
  {
   "cell_type": "code",
   "execution_count": 38,
   "id": "eaaba544",
   "metadata": {},
   "outputs": [
    {
     "name": "stdout",
     "output_type": "stream",
     "text": [
      "False\n",
      "True\n"
     ]
    }
   ],
   "source": [
    "a = 100\n",
    "b = 4\n",
    "print(a is b)\n",
    "print(a is not b)"
   ]
  }
 ],
 "metadata": {
  "kernelspec": {
   "display_name": "Python 3 (ipykernel)",
   "language": "python",
   "name": "python3"
  },
  "language_info": {
   "codemirror_mode": {
    "name": "ipython",
    "version": 3
   },
   "file_extension": ".py",
   "mimetype": "text/x-python",
   "name": "python",
   "nbconvert_exporter": "python",
   "pygments_lexer": "ipython3",
   "version": "3.10.4"
  }
 },
 "nbformat": 4,
 "nbformat_minor": 5
}
